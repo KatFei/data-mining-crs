{
 "cells": [
  {
   "cell_type": "markdown",
   "metadata": {},
   "source": [
    "# Лабараторная №1. Основый предобработки данных "
   ]
  },
  {
   "cell_type": "markdown",
   "metadata": {},
   "source": [
    "Используйте файл своей группы. <br>\n",
    "Загрузите его в DataFrame и ответьте на вопросы, используя инстурменты из файла preprocessing.ipynb.\n",
    "\n",
    "\n",
    "#### Воспросы\n",
    "1. В какой шкале представлены все признаки в наборе?<br>\n",
    "2. Укажите признак с наименьшей дисперсией.<br>\n",
    "3. Среднее какого признака отличается для двух классов сильнее всего?<br>\n",
    "4. В каком классе больше всего skilled работников?<br>\n",
    "5. Есть ли в наборе признаки с выбросами? Какие?<br>\n",
    "6. Сколько пропущенных значений в наборе?<br>\n",
    "7. Попытайтесь заполнить пропущенные значения.<br>\n",
    "8. Как минимум для одного признака каждого типа постройте диаграмму, которая может помочь его исследовать.<br>\n",
    "9. Проанализируйте взаимосвязи признаков с помощью scatter-plot матрицы и тепловой карты корреляций. Какие выводы можно сделать?<br>\n",
    "10. Какой признак(и) имеет смысл стандартизировать? Почему?<br>\n",
    "11. Придумайте 1 новый признак, попытайтесь объяснить, почему он информативный.<br>"
   ]
  },
  {
   "cell_type": "code",
   "execution_count": 1,
   "metadata": {},
   "outputs": [],
   "source": [
    "import numpy as np\n",
    "import pandas as pd\n",
    "\n",
    "import matplotlib.pyplot as plt\n",
    "\n",
    "import seaborn as sns\n",
    "\n",
    "from sklearn import datasets\n",
    "from sklearn.preprocessing import MinMaxScaler\n",
    "from sklearn.preprocessing import StandardScaler\n",
    "\n",
    "np.set_printoptions(precision=3)\n",
    "pd.set_option('precision', 3)\n",
    "\n",
    "sns.set()"
   ]
  },
  {
   "cell_type": "code",
   "execution_count": 2,
   "metadata": {},
   "outputs": [],
   "source": [
    "path='credit_3530203_70102.csv'\n",
    "credit_df = pd.read_csv(path, index_col=0)"
   ]
  },
  {
   "cell_type": "code",
   "execution_count": 3,
   "metadata": {},
   "outputs": [
    {
     "name": "stdout",
     "output_type": "stream",
     "text": [
      "<class 'pandas.core.frame.DataFrame'>\n",
      "Int64Index: 501 entries, 0 to 500\n",
      "Data columns (total 17 columns):\n",
      " #   Column              Non-Null Count  Dtype  \n",
      "---  ------              --------------  -----  \n",
      " 0   checking_status     501 non-null    object \n",
      " 1   duration            501 non-null    float64\n",
      " 2   credit_history      501 non-null    object \n",
      " 3   credit_amount       501 non-null    float64\n",
      " 4   employment          501 non-null    object \n",
      " 5   personal_status     501 non-null    object \n",
      " 6   other_parties       501 non-null    object \n",
      " 7   residence_since     501 non-null    float64\n",
      " 8   property_magnitude  501 non-null    object \n",
      " 9   age                 501 non-null    float64\n",
      " 10  housing             501 non-null    object \n",
      " 11  existing_credits    501 non-null    float64\n",
      " 12  job                 501 non-null    object \n",
      " 13  num_dependents      501 non-null    float64\n",
      " 14  own_telephone       501 non-null    object \n",
      " 15  foreign_worker      501 non-null    object \n",
      " 16  class               501 non-null    object \n",
      "dtypes: float64(6), object(11)\n",
      "memory usage: 70.5+ KB\n"
     ]
    }
   ],
   "source": [
    "credit_df.info()"
   ]
  },
  {
   "cell_type": "raw",
   "metadata": {},
   "source": [
    "pd.read_csv?"
   ]
  },
  {
   "cell_type": "code",
   "execution_count": 4,
   "metadata": {},
   "outputs": [
    {
     "data": {
      "text/plain": [
       "(501, 17)"
      ]
     },
     "execution_count": 4,
     "metadata": {},
     "output_type": "execute_result"
    }
   ],
   "source": [
    "credit_df.shape"
   ]
  },
  {
   "cell_type": "code",
   "execution_count": 5,
   "metadata": {},
   "outputs": [
    {
     "data": {
      "text/html": [
       "<div>\n",
       "<style scoped>\n",
       "    .dataframe tbody tr th:only-of-type {\n",
       "        vertical-align: middle;\n",
       "    }\n",
       "\n",
       "    .dataframe tbody tr th {\n",
       "        vertical-align: top;\n",
       "    }\n",
       "\n",
       "    .dataframe thead th {\n",
       "        text-align: right;\n",
       "    }\n",
       "</style>\n",
       "<table border=\"1\" class=\"dataframe\">\n",
       "  <thead>\n",
       "    <tr style=\"text-align: right;\">\n",
       "      <th></th>\n",
       "      <th>checking_status</th>\n",
       "      <th>duration</th>\n",
       "      <th>credit_history</th>\n",
       "      <th>credit_amount</th>\n",
       "      <th>employment</th>\n",
       "      <th>personal_status</th>\n",
       "      <th>other_parties</th>\n",
       "      <th>residence_since</th>\n",
       "      <th>property_magnitude</th>\n",
       "      <th>age</th>\n",
       "      <th>housing</th>\n",
       "      <th>existing_credits</th>\n",
       "      <th>job</th>\n",
       "      <th>num_dependents</th>\n",
       "      <th>own_telephone</th>\n",
       "      <th>foreign_worker</th>\n",
       "      <th>class</th>\n",
       "    </tr>\n",
       "  </thead>\n",
       "  <tbody>\n",
       "    <tr>\n",
       "      <th>0</th>\n",
       "      <td>&lt;0</td>\n",
       "      <td>6.0</td>\n",
       "      <td>critical/other existing credit</td>\n",
       "      <td>1169.0</td>\n",
       "      <td>&gt;=7</td>\n",
       "      <td>male single</td>\n",
       "      <td>none</td>\n",
       "      <td>4.0</td>\n",
       "      <td>real estate</td>\n",
       "      <td>67.0</td>\n",
       "      <td>own</td>\n",
       "      <td>2.0</td>\n",
       "      <td>skilled</td>\n",
       "      <td>1.0</td>\n",
       "      <td>yes</td>\n",
       "      <td>yes</td>\n",
       "      <td>good</td>\n",
       "    </tr>\n",
       "    <tr>\n",
       "      <th>1</th>\n",
       "      <td>0&lt;=X&lt;200</td>\n",
       "      <td>48.0</td>\n",
       "      <td>existing paid</td>\n",
       "      <td>5951.0</td>\n",
       "      <td>1&lt;=X&lt;4</td>\n",
       "      <td>female div/dep/mar</td>\n",
       "      <td>none</td>\n",
       "      <td>2.0</td>\n",
       "      <td>real estate</td>\n",
       "      <td>22.0</td>\n",
       "      <td>own</td>\n",
       "      <td>1.0</td>\n",
       "      <td>skilled</td>\n",
       "      <td>1.0</td>\n",
       "      <td>none</td>\n",
       "      <td>yes</td>\n",
       "      <td>bad</td>\n",
       "    </tr>\n",
       "    <tr>\n",
       "      <th>2</th>\n",
       "      <td>no checking</td>\n",
       "      <td>12.0</td>\n",
       "      <td>critical/other existing credit</td>\n",
       "      <td>2096.0</td>\n",
       "      <td>4&lt;=X&lt;7</td>\n",
       "      <td>male single</td>\n",
       "      <td>none</td>\n",
       "      <td>3.0</td>\n",
       "      <td>real estate</td>\n",
       "      <td>49.0</td>\n",
       "      <td>own</td>\n",
       "      <td>1.0</td>\n",
       "      <td>unskilled resident</td>\n",
       "      <td>2.0</td>\n",
       "      <td>none</td>\n",
       "      <td>yes</td>\n",
       "      <td>good</td>\n",
       "    </tr>\n",
       "    <tr>\n",
       "      <th>3</th>\n",
       "      <td>&lt;0</td>\n",
       "      <td>42.0</td>\n",
       "      <td>existing paid</td>\n",
       "      <td>7882.0</td>\n",
       "      <td>4&lt;=X&lt;7</td>\n",
       "      <td>male single</td>\n",
       "      <td>guarantor</td>\n",
       "      <td>4.0</td>\n",
       "      <td>life insurance</td>\n",
       "      <td>45.0</td>\n",
       "      <td>for free</td>\n",
       "      <td>1.0</td>\n",
       "      <td>skilled</td>\n",
       "      <td>2.0</td>\n",
       "      <td>none</td>\n",
       "      <td>yes</td>\n",
       "      <td>good</td>\n",
       "    </tr>\n",
       "    <tr>\n",
       "      <th>4</th>\n",
       "      <td>&lt;0</td>\n",
       "      <td>24.0</td>\n",
       "      <td>delayed previously</td>\n",
       "      <td>4870.0</td>\n",
       "      <td>1&lt;=X&lt;4</td>\n",
       "      <td>male single</td>\n",
       "      <td>none</td>\n",
       "      <td>4.0</td>\n",
       "      <td>no known property</td>\n",
       "      <td>53.0</td>\n",
       "      <td>for free</td>\n",
       "      <td>2.0</td>\n",
       "      <td>skilled</td>\n",
       "      <td>2.0</td>\n",
       "      <td>none</td>\n",
       "      <td>yes</td>\n",
       "      <td>bad</td>\n",
       "    </tr>\n",
       "  </tbody>\n",
       "</table>\n",
       "</div>"
      ],
      "text/plain": [
       "  checking_status  duration                  credit_history  credit_amount  \\\n",
       "0              <0       6.0  critical/other existing credit         1169.0   \n",
       "1        0<=X<200      48.0                   existing paid         5951.0   \n",
       "2     no checking      12.0  critical/other existing credit         2096.0   \n",
       "3              <0      42.0                   existing paid         7882.0   \n",
       "4              <0      24.0              delayed previously         4870.0   \n",
       "\n",
       "  employment     personal_status other_parties  residence_since  \\\n",
       "0        >=7         male single          none              4.0   \n",
       "1     1<=X<4  female div/dep/mar          none              2.0   \n",
       "2     4<=X<7         male single          none              3.0   \n",
       "3     4<=X<7         male single     guarantor              4.0   \n",
       "4     1<=X<4         male single          none              4.0   \n",
       "\n",
       "  property_magnitude   age   housing  existing_credits                 job  \\\n",
       "0        real estate  67.0       own               2.0             skilled   \n",
       "1        real estate  22.0       own               1.0             skilled   \n",
       "2        real estate  49.0       own               1.0  unskilled resident   \n",
       "3     life insurance  45.0  for free               1.0             skilled   \n",
       "4  no known property  53.0  for free               2.0             skilled   \n",
       "\n",
       "   num_dependents own_telephone foreign_worker class  \n",
       "0             1.0           yes            yes  good  \n",
       "1             1.0          none            yes   bad  \n",
       "2             2.0          none            yes  good  \n",
       "3             2.0          none            yes  good  \n",
       "4             2.0          none            yes   bad  "
      ]
     },
     "execution_count": 5,
     "metadata": {},
     "output_type": "execute_result"
    }
   ],
   "source": [
    "credit_df.head()"
   ]
  }
 ],
 "metadata": {
  "kernelspec": {
   "display_name": "Python 3",
   "language": "python",
   "name": "python3"
  },
  "language_info": {
   "codemirror_mode": {
    "name": "ipython",
    "version": 3
   },
   "file_extension": ".py",
   "mimetype": "text/x-python",
   "name": "python",
   "nbconvert_exporter": "python",
   "pygments_lexer": "ipython3",
   "version": "3.9.1"
  }
 },
 "nbformat": 4,
 "nbformat_minor": 4
}
